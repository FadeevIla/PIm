{
 "cells": [
  {
   "cell_type": "code",
   "execution_count": 7,
   "id": "b43d523c-27ad-41ad-af9c-9d025be40ea7",
   "metadata": {},
   "outputs": [],
   "source": [
    "from pyspark.sql import SparkSession\n",
    "from pyspark.sql.functions import col\n",
    "\n",
    "spark = SparkSession.builder.appName(\"CovidAnalysis\").getOrCreate()\n",
    "\n",
    "covid_df = spark.read.csv(\"/data/covid_data.csv\", header=True, inferSchema=True)"
   ]
  },
  {
   "cell_type": "code",
   "execution_count": 16,
   "id": "deb4585b-1188-4a58-bbb3-a5cbdf2573e0",
   "metadata": {},
   "outputs": [],
   "source": [
    "#Выберите 15 стран с наибольшим процентом переболевших на 31 марта (в выходящем датасете необходимы колонки: iso_code, страна, процент переболевших)\n",
    "from pyspark.sql.functions import max, lit\n",
    "\n",
    "march_31_df = covid_df.filter(col(\"date\") == \"2021-03-31\")\n",
    "march_31_df = march_31_df.withColumn(\"perc_recovered\", (col(\"total_cases\") / col(\"population\")) * 100)\n",
    "top_15_countries = march_31_df.select(\"iso_code\", \"location\", \"perc_recovered\") \\\n",
    "                               .orderBy(col(\"perc_recovered\").desc()) \\\n",
    "                               .limit(15)\n",
    "top_15_countries.write.mode(\"overwrite\").csv(\"/home/jovyan/top_15_countries.csv\", header=True)"
   ]
  },
  {
   "cell_type": "code",
   "execution_count": 17,
   "id": "75223961-1516-41c1-b092-0fff8ef3762e",
   "metadata": {},
   "outputs": [],
   "source": [
    "#Top 10 стран с максимальным зафиксированным кол-вом новых случаев за последнюю неделю марта 2021 в отсортированном порядке по убыванию\n",
    "#(в выходящем датасете необходимы колонки: число, страна, кол-во новых случаев)\n",
    "last_week_march = covid_df.filter((col(\"date\") >= \"2021-03-24\") & (col(\"date\") <= \"2021-03-31\"))\n",
    "\n",
    "top_10_countries = last_week_march.groupBy(\"iso_code\", \"location\") \\\n",
    "                                  .sum(\"new_cases\") \\\n",
    "                                  .withColumnRenamed(\"sum(new_cases)\", \"total_new_cases\") \\\n",
    "                                  .orderBy(col(\"total_new_cases\").desc()) \\\n",
    "                                  .limit(10)\n",
    "top_10_countries.write.mode(\"overwrite\").csv(\"/home/jovyan/top_10_countries.csv\", header=True)"
   ]
  },
  {
   "cell_type": "code",
   "execution_count": 19,
   "id": "63ee3fbf-8fd1-42ea-bed1-505350812a65",
   "metadata": {},
   "outputs": [],
   "source": [
    "#Посчитайте изменение случаев относительно предыдущего дня в России за последнюю неделю марта 2021. \n",
    "#(например: в россии вчера было 9150 , сегодня 8763, итог: -387) \n",
    "#(в выходящем датасете необходимы колонки: число, кол-во новых случаев вчера, кол-во новых случаев сегодня, дельта)\n",
    "russia_df = covid_df.filter((col(\"location\") == \"Russia\") & (col(\"date\") >= \"2021-03-24\") & (col(\"date\") <= \"2021-03-31\"))\n",
    "\n",
    "from pyspark.sql.window import Window\n",
    "from pyspark.sql.functions import lag\n",
    "\n",
    "windowSpec = Window.partitionBy(\"location\").orderBy(\"date\")\n",
    "russia_df = russia_df.withColumn(\"prev_day_cases\", lag(\"new_cases\").over(windowSpec))\n",
    "russia_df = russia_df.withColumn(\"delta\", col(\"new_cases\") - col(\"prev_day_cases\"))\n",
    "russia_df.write.mode(\"overwrite\").csv(\"/home/jovyan/russia_delta_cases.csv\", header=True)"
   ]
  },
  {
   "cell_type": "code",
   "execution_count": 12,
   "id": "7f1b0c8a-aa70-4f81-bdd8-613825c5ee6f",
   "metadata": {},
   "outputs": [],
   "source": []
  },
  {
   "cell_type": "code",
   "execution_count": null,
   "id": "a8e954a8-fd70-45ac-b3d4-8f11dced153a",
   "metadata": {},
   "outputs": [],
   "source": []
  }
 ],
 "metadata": {
  "kernelspec": {
   "display_name": "Python 3 (ipykernel)",
   "language": "python",
   "name": "python3"
  },
  "language_info": {
   "codemirror_mode": {
    "name": "ipython",
    "version": 3
   },
   "file_extension": ".py",
   "mimetype": "text/x-python",
   "name": "python",
   "nbconvert_exporter": "python",
   "pygments_lexer": "ipython3",
   "version": "3.11.6"
  }
 },
 "nbformat": 4,
 "nbformat_minor": 5
}
