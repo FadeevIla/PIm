{
 "cells": [
  {
   "cell_type": "code",
   "execution_count": 3,
   "id": "b43d523c-27ad-41ad-af9c-9d025be40ea7",
   "metadata": {},
   "outputs": [],
   "source": [
    "from pyspark.sql import SparkSession\n",
    "from pyspark.sql.functions import col\n",
    "\n",
    "spark = SparkSession.builder.appName(\"CovidAnalysis\").getOrCreate()\n",
    "\n",
    "covid_df = spark.read.csv(\"/home/jovyan/work/covid-data.csv\", header=True, inferSchema=True)"
   ]
  },
  {
   "cell_type": "code",
   "execution_count": 4,
   "id": "deb4585b-1188-4a58-bbb3-a5cbdf2573e0",
   "metadata": {},
   "outputs": [],
   "source": [
    "#Выберите 15 стран с наибольшим процентом переболевших на 31 марта (в выходящем датасете необходимы колонки: iso_code, страна, процент переболевших)\n",
    "from pyspark.sql.functions import max, lit\n",
    "\n",
    "march_31_df = covid_df.filter(col(\"date\") == \"2021-03-31\")\n",
    "march_31_df = march_31_df.withColumn(\"perc_recovered\", (col(\"total_cases\") / col(\"population\")) * 100)\n",
    "top_15_countries = march_31_df.select(\"iso_code\", \"location\", \"perc_recovered\") \\\n",
    "                               .orderBy(col(\"perc_recovered\").desc()) \\\n",
    "                               .limit(15)\n",
    "top_15_countries.write.mode(\"overwrite\").csv(\"/home/jovyan/top_15_countries.csv\", header=True)"
   ]
  },
  {
   "cell_type": "code",
   "execution_count": 5,
   "id": "75223961-1516-41c1-b092-0fff8ef3762e",
   "metadata": {},
   "outputs": [
    {
     "name": "stdout",
     "output_type": "stream",
     "text": [
      "+--------------+-------------+-----------------+\n",
      "|      location|max_new_cases|date_of_max_cases|\n",
      "+--------------+-------------+-----------------+\n",
      "|        Europe|     256192.0|       2021-03-24|\n",
      "|European Union|     216452.0|       2021-03-24|\n",
      "| South America|     148476.0|       2021-03-24|\n",
      "| North America|     100760.0|       2021-03-24|\n",
      "|        Brazil|     100158.0|       2021-03-24|\n",
      "| United States|      86960.0|       2021-03-24|\n",
      "|         India|      72330.0|       2021-03-24|\n",
      "|        France|      65392.0|       2021-03-24|\n",
      "|        Turkey|      39302.0|       2021-03-24|\n",
      "|        Poland|      35145.0|       2021-03-24|\n",
      "+--------------+-------------+-----------------+\n",
      "\n"
     ]
    }
   ],
   "source": [
    "#Top 10 стран с максимальным зафиксированным кол-вом новых случаев за последнюю неделю марта 2021 в отсортированном порядке по убыванию\n",
    "#(в выходящем датасете необходимы колонки: число, страна, кол-во новых случаев)\n",
    "from pyspark.sql import functions as F\n",
    "\n",
    "# Фильтруем ненужные записи\n",
    "valid_countries_df = covid_df.filter(~covid_df['location'].isin(\"World\", \"Asia\", \"Africa\"))\n",
    "\n",
    "# Находим максимальное количество случаев и дату, когда оно зафиксировано\n",
    "top_10_countries = valid_countries_df \\\n",
    "    .filter((F.col('date') >= '2021-03-24') & (F.col('date') <= '2021-03-31')) \\\n",
    "    .groupBy(\"location\") \\\n",
    "    .agg(F.max(\"new_cases\").alias(\"max_new_cases\"),\n",
    "         F.first(\"date\").alias(\"date_of_max_cases\")) \\\n",
    "    .orderBy(F.desc(\"max_new_cases\")) \\\n",
    "    .limit(10)\n",
    "\n",
    "top_10_countries.show()\n",
    "top_10_countries.write.mode(\"overwrite\").csv(\"/home/jovyan/top_10_countries.csv\", header=True)"
   ]
  },
  {
   "cell_type": "code",
   "execution_count": 7,
   "id": "63ee3fbf-8fd1-42ea-bed1-505350812a65",
   "metadata": {},
   "outputs": [
    {
     "name": "stdout",
     "output_type": "stream",
     "text": [
      "+----------+---------------+\n",
      "|      date|daily_new_cases|\n",
      "+----------+---------------+\n",
      "|2021-03-24|          400.0|\n",
      "|2021-03-25|          359.0|\n",
      "|2021-03-26|          -55.0|\n",
      "|2021-03-27|         -290.0|\n",
      "|2021-03-28|          196.0|\n",
      "|2021-03-29|         -390.0|\n",
      "|2021-03-30|         -427.0|\n",
      "|2021-03-31|           -6.0|\n",
      "|2021-04-01|          901.0|\n",
      "|2021-04-02|         -375.0|\n",
      "|2021-04-03|          224.0|\n",
      "|2021-04-04|         -209.0|\n",
      "|2021-04-05|         -172.0|\n",
      "|2021-04-06|         -319.0|\n",
      "|2021-04-07|          -32.0|\n",
      "|2021-04-08|          371.0|\n",
      "|2021-04-09|          482.0|\n",
      "|2021-04-10|         -447.0|\n",
      "|2021-04-11|           -4.0|\n",
      "|2021-04-12|         -385.0|\n",
      "+----------+---------------+\n",
      "only showing top 20 rows\n",
      "\n"
     ]
    }
   ],
   "source": [
    "#Посчитайте изменение случаев относительно предыдущего дня в России за последнюю неделю марта 2021. \n",
    "#(например: в россии вчера было 9150 , сегодня 8763, итог: -387) \n",
    "#(в выходящем датасете необходимы колонки: число, кол-во новых случаев вчера, кол-во новых случаев сегодня, дельта)\n",
    "from pyspark.sql.window import Window\n",
    "\n",
    "window_spec = Window.partitionBy(\"location\").orderBy(\"date\")\n",
    "\n",
    "russia_df = covid_df.filter(covid_df['location'] == \"Russia\") \\\n",
    "    .withColumn(\"daily_new_cases\", F.col(\"new_cases\") - F.lag(\"new_cases\", 1).over(window_spec)) \\\n",
    "    .na.fill(0, subset=[\"daily_new_cases\"])\n",
    "\n",
    "russia_df = russia_df.select(\"date\", \"daily_new_cases\").filter(F.col(\"date\") >= '2021-03-24')\n",
    "\n",
    "russia_df.show()\n",
    "russia_df.write.mode(\"overwrite\").csv(\"/home/jovyan/russia_delta_cases.csv\", header=True)"
   ]
  },
  {
   "cell_type": "code",
   "execution_count": 12,
   "id": "7f1b0c8a-aa70-4f81-bdd8-613825c5ee6f",
   "metadata": {},
   "outputs": [],
   "source": []
  },
  {
   "cell_type": "code",
   "execution_count": null,
   "id": "a8e954a8-fd70-45ac-b3d4-8f11dced153a",
   "metadata": {},
   "outputs": [],
   "source": []
  }
 ],
 "metadata": {
  "kernelspec": {
   "display_name": "Python 3 (ipykernel)",
   "language": "python",
   "name": "python3"
  },
  "language_info": {
   "codemirror_mode": {
    "name": "ipython",
    "version": 3
   },
   "file_extension": ".py",
   "mimetype": "text/x-python",
   "name": "python",
   "nbconvert_exporter": "python",
   "pygments_lexer": "ipython3",
   "version": "3.11.6"
  }
 },
 "nbformat": 4,
 "nbformat_minor": 5
}
