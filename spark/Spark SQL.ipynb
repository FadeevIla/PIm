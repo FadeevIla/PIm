{
 "cells": [
  {
   "cell_type": "code",
   "execution_count": 1,
   "id": "b43d523c-27ad-41ad-af9c-9d025be40ea7",
   "metadata": {},
   "outputs": [],
   "source": [
    "from pyspark.sql import SparkSession\n",
    "from pyspark.sql.functions import col\n",
    "\n",
    "spark = SparkSession.builder.appName(\"CovidAnalysis\").getOrCreate()\n",
    "\n",
    "covid_df = spark.read.csv(\"/home/jovyan/work/covid-data.csv\", header=True, inferSchema=True)"
   ]
  },
  {
   "cell_type": "code",
   "execution_count": 2,
   "id": "deb4585b-1188-4a58-bbb3-a5cbdf2573e0",
   "metadata": {},
   "outputs": [],
   "source": [
    "#Выберите 15 стран с наибольшим процентом переболевших на 31 марта (в выходящем датасете необходимы колонки: iso_code, страна, процент переболевших)\n",
    "from pyspark.sql.functions import max, lit\n",
    "\n",
    "march_31_df = covid_df.filter(col(\"date\") == \"2021-03-31\")\n",
    "march_31_df = march_31_df.withColumn(\"perc_recovered\", (col(\"total_cases\") / col(\"population\")) * 100)\n",
    "top_15_countries = march_31_df.select(\"iso_code\", \"location\", \"perc_recovered\") \\\n",
    "                               .orderBy(col(\"perc_recovered\").desc()) \\\n",
    "                               .limit(15)\n",
    "top_15_countries.write.mode(\"overwrite\").csv(\"/home/jovyan/top_15_countries.csv\", header=True)"
   ]
  },
  {
   "cell_type": "code",
   "execution_count": 3,
   "id": "75223961-1516-41c1-b092-0fff8ef3762e",
   "metadata": {},
   "outputs": [
    {
     "name": "stdout",
     "output_type": "stream",
     "text": [
      "+-------------+----------+---------+\n",
      "|     location|      date|new_cases|\n",
      "+-------------+----------+---------+\n",
      "|       Brazil|2021-03-25| 100158.0|\n",
      "|United States|2021-03-24|  86960.0|\n",
      "|        India|2021-03-31|  72330.0|\n",
      "|       France|2021-03-24|  65392.0|\n",
      "|       Turkey|2021-03-31|  39302.0|\n",
      "|       Poland|2021-03-26|  35145.0|\n",
      "|      Germany|2021-03-31|  25014.0|\n",
      "|        Italy|2021-03-26|  24076.0|\n",
      "|         Peru|2021-03-25|  19206.0|\n",
      "|      Ukraine|2021-03-26|  18226.0|\n",
      "+-------------+----------+---------+\n",
      "\n"
     ]
    }
   ],
   "source": [
    "from pyspark.sql import functions as F\n",
    "from pyspark.sql.window import Window\n",
    "\n",
    "non_country_list = [\"World\", \"Asia\", \"Africa\", \"Europe\", \"North America\", \"South America\", \"European Union\", \"Oceania\"]\n",
    "valid_countries_df = covid_df.filter(~covid_df['location'].isin(non_country_list))\n",
    "\n",
    "filtered_df = valid_countries_df.filter((F.col('date') >= '2021-03-24') & (F.col('date') <= '2021-03-31'))\n",
    "\n",
    "window_spec = Window.partitionBy(\"location\").orderBy(F.desc(\"new_cases\"))\n",
    "\n",
    "max_cases_df = filtered_df.withColumn(\"max_new_cases\", F.max(\"new_cases\").over(window_spec)) \\\n",
    "    .withColumn(\"rank\", F.rank().over(window_spec)) \\\n",
    "    .filter(F.col(\"rank\") == 1) \\\n",
    "    .drop(\"rank\") \\\n",
    "    .select(\"location\", \"date\", \"new_cases\")\n",
    "\n",
    "top_10_countries = max_cases_df.orderBy(F.desc(\"new_cases\")).limit(10)\n",
    "\n",
    "top_10_countries.show()\n",
    "\n",
    "# Сохраняем результат в файл\n",
    "top_10_countries.write.mode(\"overwrite\").csv(\"/home/jovyan/top_10_countries.csv\", header=True)"
   ]
  },
  {
   "cell_type": "code",
   "execution_count": 5,
   "id": "63ee3fbf-8fd1-42ea-bed1-505350812a65",
   "metadata": {},
   "outputs": [
    {
     "name": "stdout",
     "output_type": "stream",
     "text": [
      "+----------+---------------+\n",
      "|      date|daily_new_cases|\n",
      "+----------+---------------+\n",
      "|2021-03-24|          400.0|\n",
      "|2021-03-25|          359.0|\n",
      "|2021-03-26|          -55.0|\n",
      "|2021-03-27|         -290.0|\n",
      "|2021-03-28|          196.0|\n",
      "|2021-03-29|         -390.0|\n",
      "|2021-03-30|         -427.0|\n",
      "|2021-03-31|           -6.0|\n",
      "|2021-04-01|          901.0|\n",
      "|2021-04-02|         -375.0|\n",
      "|2021-04-03|          224.0|\n",
      "|2021-04-04|         -209.0|\n",
      "|2021-04-05|         -172.0|\n",
      "|2021-04-06|         -319.0|\n",
      "|2021-04-07|          -32.0|\n",
      "|2021-04-08|          371.0|\n",
      "|2021-04-09|          482.0|\n",
      "|2021-04-10|         -447.0|\n",
      "|2021-04-11|           -4.0|\n",
      "|2021-04-12|         -385.0|\n",
      "+----------+---------------+\n",
      "only showing top 20 rows\n",
      "\n"
     ]
    }
   ],
   "source": [
    "#Посчитайте изменение случаев относительно предыдущего дня в России за последнюю неделю марта 2021. \n",
    "#(например: в россии вчера было 9150 , сегодня 8763, итог: -387) \n",
    "#(в выходящем датасете необходимы колонки: число, кол-во новых случаев вчера, кол-во новых случаев сегодня, дельта)\n",
    "from pyspark.sql.window import Window\n",
    "\n",
    "window_spec = Window.partitionBy(\"location\").orderBy(\"date\")\n",
    "\n",
    "russia_df = covid_df.filter(covid_df['location'] == \"Russia\") \\\n",
    "    .withColumn(\"daily_new_cases\", F.col(\"new_cases\") - F.lag(\"new_cases\", 1).over(window_spec)) \\\n",
    "    .na.fill(0, subset=[\"daily_new_cases\"])\n",
    "\n",
    "russia_df = russia_df.select(\"date\", \"daily_new_cases\").filter(F.col(\"date\") >= '2021-03-31')\n",
    "\n",
    "russia_df.show()\n",
    "russia_df.write.mode(\"overwrite\").csv(\"/home/jovyan/russia_delta_cases.csv\", header=True)"
   ]
  }
 ],
 "metadata": {
  "kernelspec": {
   "display_name": "Python 3 (ipykernel)",
   "language": "python",
   "name": "python3"
  },
  "language_info": {
   "codemirror_mode": {
    "name": "ipython",
    "version": 3
   },
   "file_extension": ".py",
   "mimetype": "text/x-python",
   "name": "python",
   "nbconvert_exporter": "python",
   "pygments_lexer": "ipython3",
   "version": "3.11.6"
  }
 },
 "nbformat": 4,
 "nbformat_minor": 5
}
