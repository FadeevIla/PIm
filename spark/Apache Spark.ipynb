{
 "cells": [
  {
   "cell_type": "code",
   "execution_count": 11,
   "id": "cd31d31d-0a85-403e-8d75-8a3b088b1992",
   "metadata": {},
   "outputs": [
    {
     "name": "stdout",
     "output_type": "stream",
     "text": [
      "Header: Film,Genre,Lead Studio,Audience score %,Profitability,Rotten Tomatoes %,Worldwide Gross,Year\n",
      "Самое частое слово: 'the' с частотой 14\n"
     ]
    }
   ],
   "source": [
    "from pyspark import SparkContext\n",
    "\n",
    "# Создайте SparkContext\n",
    "sc = SparkContext.getOrCreate()\n",
    "\n",
    "movies_rdd = sc.textFile(\"/home/jovyan/work/movies.csv\")\n",
    "\n",
    "header = movies_rdd.first()\n",
    "print(\"Header:\", header)\n",
    "\n",
    "movies_rdd = movies_rdd.filter(lambda row: row != header)\n",
    "\n",
    "words_rdd = movies_rdd.flatMap(lambda line: line.split(\",\")[0].split()) \\\n",
    "                      .map(lambda word: word.lower())\n",
    "\n",
    "word_counts = words_rdd.map(lambda word: (word, 1)) \\\n",
    "                       .reduceByKey(lambda a, b: a + b)\n",
    "\n",
    "max_word = word_counts.reduce(lambda a, b: a if a[1] > b[1] else b)\n",
    "\n",
    " \"word_count_df = words_df.groupBy(\\\"word\\\").count().orderBy(col(\\\"count\\\").desc())\\n\",\n",
    "    \"\\n\",\n",
    "    \"word_count_df.show(1)\\n\"\n",
    "print(f\"Самое частое слово: '{max_word[0]}' с частотой {max_word[1]}\")"
   ]
  },
  {
   "cell_type": "code",
   "execution_count": null,
   "id": "b8fbdb3c-4017-4bb3-add6-bfbbb55a91a4",
   "metadata": {},
   "outputs": [],
   "source": []
  },
  {
   "cell_type": "code",
   "execution_count": null,
   "id": "58086186-99bc-4a70-914c-eca70429818e",
   "metadata": {},
   "outputs": [],
   "source": []
  }
 ],
 "metadata": {
  "kernelspec": {
   "display_name": "Python 3 (ipykernel)",
   "language": "python",
   "name": "python3"
  },
  "language_info": {
   "codemirror_mode": {
    "name": "ipython",
    "version": 3
   },
   "file_extension": ".py",
   "mimetype": "text/x-python",
   "name": "python",
   "nbconvert_exporter": "python",
   "pygments_lexer": "ipython3",
   "version": "3.11.6"
  }
 },
 "nbformat": 4,
 "nbformat_minor": 5
}
